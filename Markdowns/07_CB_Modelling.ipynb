{
 "cells": [
  {
   "cell_type": "markdown",
   "metadata": {},
   "source": [
    "# Movies Content Based Modelling\n",
    "\n",
    "### Team A -  Sergi Abashidze, Camila Barbagallo, Paula García, Rocío González Lantero\n",
    "\n",
    "#### 17/11/2020"
   ]
  },
  {
   "cell_type": "code",
   "execution_count": 1,
   "metadata": {},
   "outputs": [],
   "source": [
    "import pandas as pd\n",
    "import numpy as np\n",
    "import matplotlib.pyplot as plt\n",
    "\n",
    "from sklearn.preprocessing import MinMaxScaler\n",
    "from sklearn.decomposition import PCA\n",
    "from sklearn.metrics import mean_squared_error\n",
    "import sklearn.linear_model as lm\n",
    "from sklearn.tree import DecisionTreeRegressor\n",
    "from sklearn.ensemble import RandomForestRegressor\n",
    "from sklearn.neural_network import MLPRegressor\n",
    "from sklearn.svm import SVR\n",
    "from sklearn.model_selection import train_test_split, RandomizedSearchCV\n",
    "\n",
    "from xgboost import XGBRegressor "
   ]
  },
  {
   "cell_type": "code",
   "execution_count": 2,
   "metadata": {},
   "outputs": [],
   "source": [
    "data = pd.read_csv(\"OldMovies_complete.csv\", low_memory=False)"
   ]
  },
  {
   "cell_type": "code",
   "execution_count": 3,
   "metadata": {
    "scrolled": true
   },
   "outputs": [
    {
     "data": {
      "text/html": [
       "<div>\n",
       "<style scoped>\n",
       "    .dataframe tbody tr th:only-of-type {\n",
       "        vertical-align: middle;\n",
       "    }\n",
       "\n",
       "    .dataframe tbody tr th {\n",
       "        vertical-align: top;\n",
       "    }\n",
       "\n",
       "    .dataframe thead th {\n",
       "        text-align: right;\n",
       "    }\n",
       "</style>\n",
       "<table border=\"1\" class=\"dataframe\">\n",
       "  <thead>\n",
       "    <tr style=\"text-align: right;\">\n",
       "      <th></th>\n",
       "      <th>imdbId</th>\n",
       "      <th>tmdbId</th>\n",
       "      <th>userId</th>\n",
       "      <th>movieId</th>\n",
       "      <th>rating</th>\n",
       "      <th>date_ratings</th>\n",
       "      <th>Action</th>\n",
       "      <th>Adventure</th>\n",
       "      <th>Animation</th>\n",
       "      <th>Children</th>\n",
       "      <th>...</th>\n",
       "      <th>Musical</th>\n",
       "      <th>Mystery</th>\n",
       "      <th>Romance</th>\n",
       "      <th>Sci.Fi</th>\n",
       "      <th>Thriller</th>\n",
       "      <th>War</th>\n",
       "      <th>Western</th>\n",
       "      <th>ReleaseDate</th>\n",
       "      <th>Duration</th>\n",
       "      <th>IMDB_Rating</th>\n",
       "    </tr>\n",
       "  </thead>\n",
       "  <tbody>\n",
       "    <tr>\n",
       "      <th>0</th>\n",
       "      <td>100029</td>\n",
       "      <td>9399</td>\n",
       "      <td>599.0</td>\n",
       "      <td>26696</td>\n",
       "      <td>0.5</td>\n",
       "      <td>2017-06-26</td>\n",
       "      <td>1</td>\n",
       "      <td>0</td>\n",
       "      <td>0</td>\n",
       "      <td>0</td>\n",
       "      <td>...</td>\n",
       "      <td>0</td>\n",
       "      <td>0</td>\n",
       "      <td>0</td>\n",
       "      <td>0</td>\n",
       "      <td>0</td>\n",
       "      <td>0</td>\n",
       "      <td>0</td>\n",
       "      <td>1990</td>\n",
       "      <td>108</td>\n",
       "      <td>6.2</td>\n",
       "    </tr>\n",
       "    <tr>\n",
       "      <th>1</th>\n",
       "      <td>100029</td>\n",
       "      <td>9399</td>\n",
       "      <td>599.0</td>\n",
       "      <td>26696</td>\n",
       "      <td>0.5</td>\n",
       "      <td>2017-06-26</td>\n",
       "      <td>1</td>\n",
       "      <td>0</td>\n",
       "      <td>0</td>\n",
       "      <td>0</td>\n",
       "      <td>...</td>\n",
       "      <td>0</td>\n",
       "      <td>0</td>\n",
       "      <td>0</td>\n",
       "      <td>0</td>\n",
       "      <td>0</td>\n",
       "      <td>0</td>\n",
       "      <td>0</td>\n",
       "      <td>1990</td>\n",
       "      <td>108</td>\n",
       "      <td>6.2</td>\n",
       "    </tr>\n",
       "    <tr>\n",
       "      <th>2</th>\n",
       "      <td>100029</td>\n",
       "      <td>9399</td>\n",
       "      <td>599.0</td>\n",
       "      <td>26696</td>\n",
       "      <td>0.5</td>\n",
       "      <td>2017-06-26</td>\n",
       "      <td>1</td>\n",
       "      <td>0</td>\n",
       "      <td>0</td>\n",
       "      <td>0</td>\n",
       "      <td>...</td>\n",
       "      <td>0</td>\n",
       "      <td>0</td>\n",
       "      <td>0</td>\n",
       "      <td>0</td>\n",
       "      <td>0</td>\n",
       "      <td>0</td>\n",
       "      <td>0</td>\n",
       "      <td>1990</td>\n",
       "      <td>108</td>\n",
       "      <td>6.2</td>\n",
       "    </tr>\n",
       "    <tr>\n",
       "      <th>3</th>\n",
       "      <td>100029</td>\n",
       "      <td>9399</td>\n",
       "      <td>599.0</td>\n",
       "      <td>26696</td>\n",
       "      <td>0.5</td>\n",
       "      <td>2017-06-26</td>\n",
       "      <td>1</td>\n",
       "      <td>0</td>\n",
       "      <td>0</td>\n",
       "      <td>0</td>\n",
       "      <td>...</td>\n",
       "      <td>0</td>\n",
       "      <td>0</td>\n",
       "      <td>0</td>\n",
       "      <td>0</td>\n",
       "      <td>0</td>\n",
       "      <td>0</td>\n",
       "      <td>0</td>\n",
       "      <td>1990</td>\n",
       "      <td>108</td>\n",
       "      <td>6.2</td>\n",
       "    </tr>\n",
       "    <tr>\n",
       "      <th>4</th>\n",
       "      <td>100029</td>\n",
       "      <td>9399</td>\n",
       "      <td>599.0</td>\n",
       "      <td>26696</td>\n",
       "      <td>0.5</td>\n",
       "      <td>2017-06-26</td>\n",
       "      <td>1</td>\n",
       "      <td>0</td>\n",
       "      <td>0</td>\n",
       "      <td>0</td>\n",
       "      <td>...</td>\n",
       "      <td>0</td>\n",
       "      <td>0</td>\n",
       "      <td>0</td>\n",
       "      <td>0</td>\n",
       "      <td>0</td>\n",
       "      <td>0</td>\n",
       "      <td>0</td>\n",
       "      <td>1990</td>\n",
       "      <td>108</td>\n",
       "      <td>6.2</td>\n",
       "    </tr>\n",
       "  </tbody>\n",
       "</table>\n",
       "<p>5 rows × 28 columns</p>\n",
       "</div>"
      ],
      "text/plain": [
       "   imdbId  tmdbId  userId  movieId  rating date_ratings  Action  Adventure  \\\n",
       "0  100029    9399   599.0    26696     0.5   2017-06-26       1          0   \n",
       "1  100029    9399   599.0    26696     0.5   2017-06-26       1          0   \n",
       "2  100029    9399   599.0    26696     0.5   2017-06-26       1          0   \n",
       "3  100029    9399   599.0    26696     0.5   2017-06-26       1          0   \n",
       "4  100029    9399   599.0    26696     0.5   2017-06-26       1          0   \n",
       "\n",
       "   Animation  Children  ...  Musical  Mystery  Romance  Sci.Fi  Thriller  War  \\\n",
       "0          0         0  ...        0        0        0       0         0    0   \n",
       "1          0         0  ...        0        0        0       0         0    0   \n",
       "2          0         0  ...        0        0        0       0         0    0   \n",
       "3          0         0  ...        0        0        0       0         0    0   \n",
       "4          0         0  ...        0        0        0       0         0    0   \n",
       "\n",
       "   Western  ReleaseDate  Duration  IMDB_Rating  \n",
       "0        0         1990       108          6.2  \n",
       "1        0         1990       108          6.2  \n",
       "2        0         1990       108          6.2  \n",
       "3        0         1990       108          6.2  \n",
       "4        0         1990       108          6.2  \n",
       "\n",
       "[5 rows x 28 columns]"
      ]
     },
     "execution_count": 3,
     "metadata": {},
     "output_type": "execute_result"
    }
   ],
   "source": [
    "data.head()"
   ]
  },
  {
   "cell_type": "markdown",
   "metadata": {},
   "source": [
    "# 1. Data preparation\n",
    "\n",
    "## 1.1 Data cleaning\n",
    "\n",
    "### 1.1.1 Missing values"
   ]
  },
  {
   "cell_type": "code",
   "execution_count": 4,
   "metadata": {
    "scrolled": false
   },
   "outputs": [
    {
     "data": {
      "text/plain": [
       "imdbId          0\n",
       "tmdbId          0\n",
       "userId          0\n",
       "movieId         0\n",
       "rating          0\n",
       "date_ratings    0\n",
       "Action          0\n",
       "Adventure       0\n",
       "Animation       0\n",
       "Children        0\n",
       "Comedy          0\n",
       "Crime           0\n",
       "Documentary     0\n",
       "Drama           0\n",
       "Fantasy         0\n",
       "Film.Noir       0\n",
       "Horror          0\n",
       "IMAX            0\n",
       "Musical         0\n",
       "Mystery         0\n",
       "Romance         0\n",
       "Sci.Fi          0\n",
       "Thriller        0\n",
       "War             0\n",
       "Western         0\n",
       "ReleaseDate     0\n",
       "Duration        0\n",
       "IMDB_Rating     0\n",
       "dtype: int64"
      ]
     },
     "execution_count": 4,
     "metadata": {},
     "output_type": "execute_result"
    }
   ],
   "source": [
    "data.isna().sum()"
   ]
  },
  {
   "cell_type": "markdown",
   "metadata": {},
   "source": [
    "### 1.1.2 Duplicates"
   ]
  },
  {
   "cell_type": "code",
   "execution_count": 5,
   "metadata": {},
   "outputs": [
    {
     "data": {
      "text/plain": [
       "9954016"
      ]
     },
     "execution_count": 5,
     "metadata": {},
     "output_type": "execute_result"
    }
   ],
   "source": [
    "data.duplicated().sum()"
   ]
  },
  {
   "cell_type": "code",
   "execution_count": 6,
   "metadata": {},
   "outputs": [],
   "source": [
    "df = data.drop_duplicates(inplace=False)"
   ]
  },
  {
   "cell_type": "code",
   "execution_count": 7,
   "metadata": {},
   "outputs": [
    {
     "data": {
      "text/plain": [
       "0"
      ]
     },
     "execution_count": 7,
     "metadata": {},
     "output_type": "execute_result"
    }
   ],
   "source": [
    "df.duplicated().sum()"
   ]
  },
  {
   "cell_type": "markdown",
   "metadata": {},
   "source": [
    "## 1.2 Feature engineering\n",
    "\n",
    "**Ids**\n",
    "\n",
    "If we wanted to use the ids, we would need to preprocess them. However, we have enough information for each observation and little computing resources, so we will leave this for future work."
   ]
  },
  {
   "cell_type": "code",
   "execution_count": 8,
   "metadata": {},
   "outputs": [
    {
     "name": "stderr",
     "output_type": "stream",
     "text": [
      "C:\\Users\\Usuario\\Anaconda3\\envs\\MachineLearning\\lib\\site-packages\\pandas\\core\\frame.py:4170: SettingWithCopyWarning: \n",
      "A value is trying to be set on a copy of a slice from a DataFrame\n",
      "\n",
      "See the caveats in the documentation: https://pandas.pydata.org/pandas-docs/stable/user_guide/indexing.html#returning-a-view-versus-a-copy\n",
      "  errors=errors,\n"
     ]
    }
   ],
   "source": [
    "df.drop(['imdbId','tmdbId','movieId','userId'], axis=1, inplace=True)"
   ]
  },
  {
   "cell_type": "markdown",
   "metadata": {},
   "source": [
    "__date_ratings__\n",
    "\n",
    "To take the date into account within the models, we will extract the days since the rating and save the date as index."
   ]
  },
  {
   "cell_type": "code",
   "execution_count": 9,
   "metadata": {},
   "outputs": [
    {
     "name": "stderr",
     "output_type": "stream",
     "text": [
      "C:\\Users\\Usuario\\Anaconda3\\envs\\MachineLearning\\lib\\site-packages\\pandas\\core\\generic.py:5168: SettingWithCopyWarning: \n",
      "A value is trying to be set on a copy of a slice from a DataFrame.\n",
      "Try using .loc[row_indexer,col_indexer] = value instead\n",
      "\n",
      "See the caveats in the documentation: https://pandas.pydata.org/pandas-docs/stable/user_guide/indexing.html#returning-a-view-versus-a-copy\n",
      "  self[name] = value\n",
      "C:\\Users\\Usuario\\Anaconda3\\envs\\MachineLearning\\lib\\site-packages\\ipykernel_launcher.py:5: SettingWithCopyWarning: \n",
      "A value is trying to be set on a copy of a slice from a DataFrame.\n",
      "Try using .loc[row_indexer,col_indexer] = value instead\n",
      "\n",
      "See the caveats in the documentation: https://pandas.pydata.org/pandas-docs/stable/user_guide/indexing.html#returning-a-view-versus-a-copy\n",
      "  \"\"\"\n",
      "C:\\Users\\Usuario\\Anaconda3\\envs\\MachineLearning\\lib\\site-packages\\ipykernel_launcher.py:11: SettingWithCopyWarning: \n",
      "A value is trying to be set on a copy of a slice from a DataFrame.\n",
      "Try using .loc[row_indexer,col_indexer] = value instead\n",
      "\n",
      "See the caveats in the documentation: https://pandas.pydata.org/pandas-docs/stable/user_guide/indexing.html#returning-a-view-versus-a-copy\n",
      "  # This is added back by InteractiveShellApp.init_path()\n"
     ]
    }
   ],
   "source": [
    "# convert to date format: year-month-day\n",
    "df.date_ratings = pd.to_datetime(df.date_ratings, format='%Y-%m-%d', errors='coerce')\n",
    "\n",
    "#new column with todays date\n",
    "df['today'] = '2020-11-17'\n",
    "\n",
    "#convert new column to date\n",
    "df.today = pd.to_datetime(df.today, format='%Y-%m-%d', errors='coerce')\n",
    "\n",
    "#creating a new variable that describes for how many days a host has been a host\n",
    "df['days_since_rating'] = (df['today']-df['date_ratings']).dt.days\n",
    "\n",
    "#dropping today\n",
    "df = df.drop('today', axis=1)"
   ]
  },
  {
   "cell_type": "code",
   "execution_count": 10,
   "metadata": {},
   "outputs": [],
   "source": [
    "#save date as index\n",
    "df = df.set_index('date_ratings')"
   ]
  },
  {
   "cell_type": "markdown",
   "metadata": {},
   "source": [
    "**ReleaseDate**"
   ]
  },
  {
   "cell_type": "code",
   "execution_count": 11,
   "metadata": {},
   "outputs": [],
   "source": [
    "# convert to date format: year-\n",
    "df.ReleaseDate = pd.to_datetime(df.ReleaseDate, format='%Y', errors='coerce')\n",
    "\n",
    "#new column with todays date\n",
    "df['year'] = '2020'\n",
    "\n",
    "#convert new column to date\n",
    "df.year = pd.to_datetime(df.year, format='%Y', errors='coerce')\n",
    "\n",
    "#creating a new variable that describes for how many years the movie has been released\n",
    "df['days_since_release'] = (df['year']-df['ReleaseDate']).dt.days\n",
    "\n",
    "#dropping year and ReleaseDate, as we have already extracted the information they contain\n",
    "df = df.drop(['year','ReleaseDate'], axis=1)"
   ]
  },
  {
   "cell_type": "markdown",
   "metadata": {},
   "source": [
    "Once we have processed all the variables, the data looks like this:"
   ]
  },
  {
   "cell_type": "code",
   "execution_count": 12,
   "metadata": {},
   "outputs": [
    {
     "data": {
      "text/html": [
       "<div>\n",
       "<style scoped>\n",
       "    .dataframe tbody tr th:only-of-type {\n",
       "        vertical-align: middle;\n",
       "    }\n",
       "\n",
       "    .dataframe tbody tr th {\n",
       "        vertical-align: top;\n",
       "    }\n",
       "\n",
       "    .dataframe thead th {\n",
       "        text-align: right;\n",
       "    }\n",
       "</style>\n",
       "<table border=\"1\" class=\"dataframe\">\n",
       "  <thead>\n",
       "    <tr style=\"text-align: right;\">\n",
       "      <th></th>\n",
       "      <th>rating</th>\n",
       "      <th>Action</th>\n",
       "      <th>Adventure</th>\n",
       "      <th>Animation</th>\n",
       "      <th>Children</th>\n",
       "      <th>Comedy</th>\n",
       "      <th>Crime</th>\n",
       "      <th>Documentary</th>\n",
       "      <th>Drama</th>\n",
       "      <th>Fantasy</th>\n",
       "      <th>...</th>\n",
       "      <th>Mystery</th>\n",
       "      <th>Romance</th>\n",
       "      <th>Sci.Fi</th>\n",
       "      <th>Thriller</th>\n",
       "      <th>War</th>\n",
       "      <th>Western</th>\n",
       "      <th>Duration</th>\n",
       "      <th>IMDB_Rating</th>\n",
       "      <th>days_since_rating</th>\n",
       "      <th>days_since_release</th>\n",
       "    </tr>\n",
       "    <tr>\n",
       "      <th>date_ratings</th>\n",
       "      <th></th>\n",
       "      <th></th>\n",
       "      <th></th>\n",
       "      <th></th>\n",
       "      <th></th>\n",
       "      <th></th>\n",
       "      <th></th>\n",
       "      <th></th>\n",
       "      <th></th>\n",
       "      <th></th>\n",
       "      <th></th>\n",
       "      <th></th>\n",
       "      <th></th>\n",
       "      <th></th>\n",
       "      <th></th>\n",
       "      <th></th>\n",
       "      <th></th>\n",
       "      <th></th>\n",
       "      <th></th>\n",
       "      <th></th>\n",
       "      <th></th>\n",
       "    </tr>\n",
       "  </thead>\n",
       "  <tbody>\n",
       "    <tr>\n",
       "      <th>2017-06-26</th>\n",
       "      <td>0.5</td>\n",
       "      <td>1</td>\n",
       "      <td>0</td>\n",
       "      <td>0</td>\n",
       "      <td>0</td>\n",
       "      <td>0</td>\n",
       "      <td>0</td>\n",
       "      <td>0</td>\n",
       "      <td>0</td>\n",
       "      <td>0</td>\n",
       "      <td>...</td>\n",
       "      <td>0</td>\n",
       "      <td>0</td>\n",
       "      <td>0</td>\n",
       "      <td>0</td>\n",
       "      <td>0</td>\n",
       "      <td>0</td>\n",
       "      <td>108</td>\n",
       "      <td>6.2</td>\n",
       "      <td>1240</td>\n",
       "      <td>10957</td>\n",
       "    </tr>\n",
       "    <tr>\n",
       "      <th>2000-11-23</th>\n",
       "      <td>4.0</td>\n",
       "      <td>0</td>\n",
       "      <td>0</td>\n",
       "      <td>0</td>\n",
       "      <td>0</td>\n",
       "      <td>0</td>\n",
       "      <td>0</td>\n",
       "      <td>0</td>\n",
       "      <td>1</td>\n",
       "      <td>0</td>\n",
       "      <td>...</td>\n",
       "      <td>0</td>\n",
       "      <td>0</td>\n",
       "      <td>0</td>\n",
       "      <td>0</td>\n",
       "      <td>0</td>\n",
       "      <td>0</td>\n",
       "      <td>97</td>\n",
       "      <td>7.3</td>\n",
       "      <td>7299</td>\n",
       "      <td>10957</td>\n",
       "    </tr>\n",
       "    <tr>\n",
       "      <th>2005-05-31</th>\n",
       "      <td>1.0</td>\n",
       "      <td>0</td>\n",
       "      <td>0</td>\n",
       "      <td>0</td>\n",
       "      <td>0</td>\n",
       "      <td>1</td>\n",
       "      <td>0</td>\n",
       "      <td>0</td>\n",
       "      <td>0</td>\n",
       "      <td>0</td>\n",
       "      <td>...</td>\n",
       "      <td>0</td>\n",
       "      <td>1</td>\n",
       "      <td>0</td>\n",
       "      <td>0</td>\n",
       "      <td>0</td>\n",
       "      <td>0</td>\n",
       "      <td>81</td>\n",
       "      <td>4.7</td>\n",
       "      <td>5649</td>\n",
       "      <td>10957</td>\n",
       "    </tr>\n",
       "    <tr>\n",
       "      <th>2007-02-18</th>\n",
       "      <td>3.0</td>\n",
       "      <td>0</td>\n",
       "      <td>0</td>\n",
       "      <td>0</td>\n",
       "      <td>0</td>\n",
       "      <td>1</td>\n",
       "      <td>0</td>\n",
       "      <td>0</td>\n",
       "      <td>0</td>\n",
       "      <td>0</td>\n",
       "      <td>...</td>\n",
       "      <td>0</td>\n",
       "      <td>1</td>\n",
       "      <td>0</td>\n",
       "      <td>0</td>\n",
       "      <td>0</td>\n",
       "      <td>0</td>\n",
       "      <td>81</td>\n",
       "      <td>4.7</td>\n",
       "      <td>5021</td>\n",
       "      <td>10957</td>\n",
       "    </tr>\n",
       "    <tr>\n",
       "      <th>2017-06-26</th>\n",
       "      <td>2.0</td>\n",
       "      <td>0</td>\n",
       "      <td>0</td>\n",
       "      <td>0</td>\n",
       "      <td>0</td>\n",
       "      <td>1</td>\n",
       "      <td>0</td>\n",
       "      <td>0</td>\n",
       "      <td>0</td>\n",
       "      <td>0</td>\n",
       "      <td>...</td>\n",
       "      <td>0</td>\n",
       "      <td>1</td>\n",
       "      <td>0</td>\n",
       "      <td>0</td>\n",
       "      <td>0</td>\n",
       "      <td>0</td>\n",
       "      <td>81</td>\n",
       "      <td>4.7</td>\n",
       "      <td>1240</td>\n",
       "      <td>10957</td>\n",
       "    </tr>\n",
       "  </tbody>\n",
       "</table>\n",
       "<p>5 rows × 24 columns</p>\n",
       "</div>"
      ],
      "text/plain": [
       "              rating  Action  Adventure  Animation  Children  Comedy  Crime  \\\n",
       "date_ratings                                                                  \n",
       "2017-06-26       0.5       1          0          0         0       0      0   \n",
       "2000-11-23       4.0       0          0          0         0       0      0   \n",
       "2005-05-31       1.0       0          0          0         0       1      0   \n",
       "2007-02-18       3.0       0          0          0         0       1      0   \n",
       "2017-06-26       2.0       0          0          0         0       1      0   \n",
       "\n",
       "              Documentary  Drama  Fantasy  ...  Mystery  Romance  Sci.Fi  \\\n",
       "date_ratings                               ...                             \n",
       "2017-06-26              0      0        0  ...        0        0       0   \n",
       "2000-11-23              0      1        0  ...        0        0       0   \n",
       "2005-05-31              0      0        0  ...        0        1       0   \n",
       "2007-02-18              0      0        0  ...        0        1       0   \n",
       "2017-06-26              0      0        0  ...        0        1       0   \n",
       "\n",
       "              Thriller  War  Western  Duration  IMDB_Rating  \\\n",
       "date_ratings                                                  \n",
       "2017-06-26           0    0        0       108          6.2   \n",
       "2000-11-23           0    0        0        97          7.3   \n",
       "2005-05-31           0    0        0        81          4.7   \n",
       "2007-02-18           0    0        0        81          4.7   \n",
       "2017-06-26           0    0        0        81          4.7   \n",
       "\n",
       "              days_since_rating  days_since_release  \n",
       "date_ratings                                         \n",
       "2017-06-26                 1240               10957  \n",
       "2000-11-23                 7299               10957  \n",
       "2005-05-31                 5649               10957  \n",
       "2007-02-18                 5021               10957  \n",
       "2017-06-26                 1240               10957  \n",
       "\n",
       "[5 rows x 24 columns]"
      ]
     },
     "execution_count": 12,
     "metadata": {},
     "output_type": "execute_result"
    }
   ],
   "source": [
    "df.head()"
   ]
  },
  {
   "cell_type": "markdown",
   "metadata": {},
   "source": [
    "## 1.3  Train-test split"
   ]
  },
  {
   "cell_type": "code",
   "execution_count": 13,
   "metadata": {},
   "outputs": [],
   "source": [
    "def train_test_ts(df, test_size= 0.2):\n",
    "    size= int(np.round(len(df)*0.2))\n",
    "    train= df.iloc[:-size]\n",
    "    test= df.iloc[-size:]\n",
    "    return train,test"
   ]
  },
  {
   "cell_type": "code",
   "execution_count": 14,
   "metadata": {},
   "outputs": [],
   "source": [
    "y = df['rating']\n",
    "X = df.drop('rating',axis=1)"
   ]
  },
  {
   "cell_type": "markdown",
   "metadata": {},
   "source": [
    "We will use 70% of our data for training and 30% for testing."
   ]
  },
  {
   "cell_type": "code",
   "execution_count": 15,
   "metadata": {},
   "outputs": [],
   "source": [
    "X_train, X_test = train_test_ts(X, test_size=0.3)\n",
    "y_train, y_test = train_test_ts(y, test_size=0.3)"
   ]
  },
  {
   "cell_type": "markdown",
   "metadata": {},
   "source": [
    "## 1.4 Normalization\n",
    "\n",
    "To start modelling giving the same importance to all our features we will normalize our data."
   ]
  },
  {
   "cell_type": "code",
   "execution_count": 16,
   "metadata": {},
   "outputs": [],
   "source": [
    "mm_scale = MinMaxScaler().fit(X_train)\n",
    "X_train = mm_scale.transform(X_train)\n",
    "X_test = mm_scale.transform(X_test)"
   ]
  },
  {
   "cell_type": "markdown",
   "metadata": {},
   "source": [
    "# 2. Dimensionality reduction: PCA\n",
    "\n",
    "We have a lot of features and we don't care about why a user prefers one movie to another, dimensionality reduction is recommended to simplify the modelling process and most likely give better results.\n",
    "\n",
    "**Choose number of components**"
   ]
  },
  {
   "cell_type": "code",
   "execution_count": 17,
   "metadata": {
    "scrolled": true
   },
   "outputs": [
    {
     "data": {
      "text/plain": [
       "array([0.20050677, 0.36945844, 0.47399421, 0.55465005, 0.62182394,\n",
       "       0.68013849, 0.72474107, 0.76734735, 0.80752021, 0.84342491,\n",
       "       0.87553613, 0.90312808, 0.92607845, 0.94340969, 0.95777165,\n",
       "       0.96990309, 0.97886803, 0.98490429, 0.99083805, 0.99372425,\n",
       "       0.9964627 , 0.99843798, 1.        ])"
      ]
     },
     "execution_count": 17,
     "metadata": {},
     "output_type": "execute_result"
    }
   ],
   "source": [
    "pca = PCA().fit(X_train)\n",
    "np.cumsum(pca.explained_variance_ratio_)"
   ]
  },
  {
   "cell_type": "code",
   "execution_count": 18,
   "metadata": {},
   "outputs": [
    {
     "data": {
      "image/png": "[encoded data removed]",
      "text/plain": [
       "<Figure size 432x288 with 1 Axes>"
      ]
     },
     "metadata": {
      "needs_background": "light"
     },
     "output_type": "display_data"
    }
   ],
   "source": [
    "plt.plot(np.cumsum(pca.explained_variance_ratio_))\n",
    "plt.xlabel('number of components')\n",
    "plt.ylabel('cumulative explained variance');"
   ]
  },
  {
   "cell_type": "markdown",
   "metadata": {},
   "source": [
    "By looking at the table and graph, we conclude that after approximately the 19th principal component the explained variance doesn't increase significantly. Therefore, we will use 19 principal components. \n",
    "\n",
    "**Save number of components as features**"
   ]
  },
  {
   "cell_type": "code",
   "execution_count": 19,
   "metadata": {},
   "outputs": [],
   "source": [
    "pca = PCA(n_components=19).fit(X_train)\n",
    "X_train = pca.transform(X_train)\n",
    "X_train = pd.DataFrame(data = X_train, \n",
    "                       columns = ['PC1', 'PC2','PC3','PC4','PC5','PC6', 'PC7', 'PC8', 'PC9', 'PC10', 'PC11','PC12'\n",
    "                                  , 'PC13', 'PC14', 'PC15', 'PC16', 'PC17','PC18', 'PC19'])\n",
    "X_test = pca.transform(X_test)\n",
    "X_test = pd.DataFrame(data = X_test, \n",
    "                      columns = ['PC1', 'PC2','PC3','PC4','PC5','PC6', 'PC7', 'PC8', 'PC9', 'PC10', 'PC11','PC12'\n",
    "                                , 'PC13', 'PC14', 'PC15', 'PC16', 'PC17','PC18', 'PC19'])"
   ]
  },
  {
   "cell_type": "markdown",
   "metadata": {},
   "source": [
    "# 3. Modelling"
   ]
  },
  {
   "cell_type": "markdown",
   "metadata": {},
   "source": [
    "## 3.1 Linear regression"
   ]
  },
  {
   "cell_type": "code",
   "execution_count": 20,
   "metadata": {},
   "outputs": [
    {
     "name": "stdout",
     "output_type": "stream",
     "text": [
      "Train Root Mean Squared Error:  0.9412620050041913\n",
      "Test Root Mean Squared Error:  0.9551073936369556\n"
     ]
    }
   ],
   "source": [
    "mlr = lm.LinearRegression()\n",
    "mlr.fit(X_train, y_train)\n",
    "\n",
    "y_trainpred = mlr.predict(X_train)\n",
    "y_pred = mlr.predict(X_test)\n",
    "\n",
    "print (\"Train Root Mean Squared Error: \", np.sqrt(mean_squared_error(y_train, y_trainpred)))\n",
    "print (\"Test Root Mean Squared Error: \", np.sqrt(mean_squared_error(y_test, y_pred)))"
   ]
  },
  {
   "cell_type": "markdown",
   "metadata": {},
   "source": [
    "## 3.2 Decision tree"
   ]
  },
  {
   "cell_type": "code",
   "execution_count": 21,
   "metadata": {},
   "outputs": [
    {
     "name": "stdout",
     "output_type": "stream",
     "text": [
      "Train Root Mean Squared Error:  0.10778419224119425\n",
      "Test Root Mean Squared Error:  1.5543768312169308\n"
     ]
    }
   ],
   "source": [
    "dtr = DecisionTreeRegressor(random_state=0)\n",
    "\n",
    "dtr.fit(X_train,y_train)\n",
    "\n",
    "y_trainpred = dtr.predict(X_train)\n",
    "y_pred = dtr.predict(X_test)\n",
    "\n",
    "print (\"Train Root Mean Squared Error: \", np.sqrt(mean_squared_error(y_train, y_trainpred)))\n",
    "print (\"Test Root Mean Squared Error: \", np.sqrt(mean_squared_error(y_test, y_pred)))"
   ]
  },
  {
   "cell_type": "markdown",
   "metadata": {},
   "source": [
    "## 3.3 Random forest"
   ]
  },
  {
   "cell_type": "code",
   "execution_count": 22,
   "metadata": {},
   "outputs": [
    {
     "name": "stdout",
     "output_type": "stream",
     "text": [
      "Train Root Mean Squared Error:  0.4013595648172423\n",
      "Test Root Mean Squared Error:  1.0109740563244067\n"
     ]
    }
   ],
   "source": [
    "rf = RandomForestRegressor(random_state=0)\n",
    "\n",
    "rf.fit(X_train,y_train)\n",
    "\n",
    "y_trainpred = rf.predict(X_train)\n",
    "y_pred = rf.predict(X_test)\n",
    "\n",
    "print (\"Train Root Mean Squared Error: \", np.sqrt(mean_squared_error(y_train, y_trainpred)))\n",
    "print (\"Test Root Mean Squared Error: \", np.sqrt(mean_squared_error(y_test, y_pred)))"
   ]
  },
  {
   "cell_type": "markdown",
   "metadata": {},
   "source": [
    "## 3.4 MLP regressor"
   ]
  },
  {
   "cell_type": "code",
   "execution_count": 23,
   "metadata": {},
   "outputs": [
    {
     "name": "stdout",
     "output_type": "stream",
     "text": [
      "Train Root Mean Squared Error:  0.9219168374330297\n",
      "Test Root Mean Squared Error:  0.9590273334307909\n"
     ]
    }
   ],
   "source": [
    "nn = MLPRegressor(random_state=0)\n",
    "\n",
    "nn.fit(X_train, y_train)\n",
    "\n",
    "y_trainpred = nn.predict(X_train)\n",
    "y_pred = nn.predict(X_test)\n",
    "\n",
    "print (\"Train Root Mean Squared Error: \", np.sqrt(mean_squared_error(y_train, y_trainpred)))\n",
    "print (\"Test Root Mean Squared Error: \", np.sqrt(mean_squared_error(y_test, y_pred)))"
   ]
  },
  {
   "cell_type": "markdown",
   "metadata": {},
   "source": [
    "## 3.5 Support vector regressor"
   ]
  },
  {
   "cell_type": "code",
   "execution_count": 24,
   "metadata": {},
   "outputs": [
    {
     "name": "stdout",
     "output_type": "stream",
     "text": [
      "Train Root Mean Squared Error:  0.9330784196801502\n",
      "Test Root Mean Squared Error:  0.9575314279298017\n"
     ]
    }
   ],
   "source": [
    "svr = SVR()\n",
    "\n",
    "svr.fit(X_train, y_train)\n",
    "\n",
    "y_trainpred = svr.predict(X_train)\n",
    "y_pred = svr.predict(X_test)\n",
    "\n",
    "print (\"Train Root Mean Squared Error: \", np.sqrt(mean_squared_error(y_train, y_trainpred)))\n",
    "print (\"Test Root Mean Squared Error: \", np.sqrt(mean_squared_error(y_test, y_pred)))"
   ]
  },
  {
   "cell_type": "markdown",
   "metadata": {},
   "source": [
    "## 3.6 XGBoost"
   ]
  },
  {
   "cell_type": "code",
   "execution_count": 25,
   "metadata": {},
   "outputs": [
    {
     "name": "stdout",
     "output_type": "stream",
     "text": [
      "Train Root Mean Squared Error:  0.8614380437815591\n",
      "Test Root Mean Squared Error:  0.9799647626838621\n"
     ]
    }
   ],
   "source": [
    "xgb = XGBRegressor()\n",
    "\n",
    "xgb.fit(X_train, y_train)\n",
    "\n",
    "y_trainpred = xgb.predict(X_train)\n",
    "y_pred = xgb.predict(X_test)\n",
    "\n",
    "print (\"Train Root Mean Squared Error: \", np.sqrt(mean_squared_error(y_train, y_trainpred)))\n",
    "print (\"Test Root Mean Squared Error: \", np.sqrt(mean_squared_error(y_test, y_pred)))"
   ]
  },
  {
   "cell_type": "markdown",
   "metadata": {},
   "source": [
    "## 3.6 Preliminary results\n",
    "\n",
    "From the models above we have the following results:\n",
    "\n",
    "| Model                 | Train  | Test   | Difference| Behaviour  |\n",
    "|-----------------------|--------|--------|-----------|------------|\n",
    "| **Linear Regression** | 0.9412 | 0.9551 | 0.0139    | Overfitted |\n",
    "| **Decision Tree**     | 0.1078 | 1.5544 | 1.4466    | Overfitted |\n",
    "| **Random Forest**     | 0.4014 | 1.011  | 0.6096    | Overfitted |\n",
    "| <code style=\"background:yellow\">**MLP Regressor**     | 0.9219 | 0.9590 | 0.0371    | Overfitted |\n",
    "| **SVR**               | 0.9331 | 0.9575 | 0.0244    | Overfitted |\n",
    "| <code style=\"background:yellow\">**XGBoost**           | 0.8614 | 0.98   | 0.0546    | Overfitted |\n",
    "\n",
    "We will proceed to fine tune MLP Regressor and XGBoost, as they seem to be the models that best predict the ratings for the movies."
   ]
  },
  {
   "cell_type": "markdown",
   "metadata": {},
   "source": [
    "# 4. Model fine tuning\n",
    "\n",
    "Once we have the top models, we need to proceed to fine tune them, to get better results."
   ]
  },
  {
   "cell_type": "markdown",
   "metadata": {},
   "source": [
    "##  4.1 MLP Regressor"
   ]
  },
  {
   "cell_type": "code",
   "execution_count": 26,
   "metadata": {},
   "outputs": [
    {
     "name": "stdout",
     "output_type": "stream",
     "text": [
      "Parameters currently in use:\n",
      "\n"
     ]
    },
    {
     "data": {
      "text/plain": [
       "{'activation': 'relu',\n",
       " 'alpha': 0.0001,\n",
       " 'batch_size': 'auto',\n",
       " 'beta_1': 0.9,\n",
       " 'beta_2': 0.999,\n",
       " 'early_stopping': False,\n",
       " 'epsilon': 1e-08,\n",
       " 'hidden_layer_sizes': (100,),\n",
       " 'learning_rate': 'constant',\n",
       " 'learning_rate_init': 0.001,\n",
       " 'max_fun': 15000,\n",
       " 'max_iter': 200,\n",
       " 'momentum': 0.9,\n",
       " 'n_iter_no_change': 10,\n",
       " 'nesterovs_momentum': True,\n",
       " 'power_t': 0.5,\n",
       " 'random_state': 0,\n",
       " 'shuffle': True,\n",
       " 'solver': 'adam',\n",
       " 'tol': 0.0001,\n",
       " 'validation_fraction': 0.1,\n",
       " 'verbose': False,\n",
       " 'warm_start': False}"
      ]
     },
     "execution_count": 26,
     "metadata": {},
     "output_type": "execute_result"
    }
   ],
   "source": [
    "print('Parameters currently in use:\\n')\n",
    "nn.get_params()"
   ]
  },
  {
   "cell_type": "code",
   "execution_count": 27,
   "metadata": {},
   "outputs": [],
   "source": [
    "parameters = {\n",
    "'hidden_layer_sizes': (np.arange(10,30,5), np.arange(10,30,5)),\n",
    "'activation': ['identity','logistic','tanh','relu'],\n",
    "'solver': ['adam','lbfgs','sgd'],\n",
    "'learning_rate': ['invscaling','constant','adaptive']}\n",
    "\n",
    "\n",
    "nn_rs = RandomizedSearchCV(estimator=nn, param_distributions=parameters, scoring='neg_root_mean_squared_error',\n",
    "                            cv=10, verbose=2, random_state=42, n_jobs=-1)"
   ]
  },
  {
   "cell_type": "code",
   "execution_count": 28,
   "metadata": {},
   "outputs": [
    {
     "name": "stdout",
     "output_type": "stream",
     "text": [
      "Fitting 10 folds for each of 10 candidates, totalling 100 fits\n"
     ]
    },
    {
     "name": "stderr",
     "output_type": "stream",
     "text": [
      "[Parallel(n_jobs=-1)]: Using backend LokyBackend with 8 concurrent workers.\n",
      "[Parallel(n_jobs=-1)]: Done  25 tasks      | elapsed:  3.9min\n",
      "[Parallel(n_jobs=-1)]: Done 100 out of 100 | elapsed:  8.4min finished\n"
     ]
    },
    {
     "name": "stdout",
     "output_type": "stream",
     "text": [
      "Train Root Mean Squared Error:  0.9379164195501649\n",
      "Test Root Mean Squared Error:  0.9490516506590705\n"
     ]
    }
   ],
   "source": [
    "nn_rs.fit(X_train, y_train)\n",
    "\n",
    "y_trainpred = nn_rs.predict(X_train)\n",
    "y_pred = nn_rs.predict(X_test)\n",
    "\n",
    "print (\"Train Root Mean Squared Error: \", np.sqrt(mean_squared_error(y_train, y_trainpred)))\n",
    "print (\"Test Root Mean Squared Error: \", np.sqrt(mean_squared_error(y_test, y_pred)))"
   ]
  },
  {
   "cell_type": "code",
   "execution_count": 29,
   "metadata": {},
   "outputs": [
    {
     "name": "stdout",
     "output_type": "stream",
     "text": [
      "Best Hyper Parameters:\n",
      " {'solver': 'adam', 'learning_rate': 'invscaling', 'hidden_layer_sizes': array([10, 15, 20, 25]), 'activation': 'logistic'}\n"
     ]
    }
   ],
   "source": [
    "print(\"Best Hyper Parameters:\\n\",nn_rs.best_params_)"
   ]
  },
  {
   "cell_type": "markdown",
   "metadata": {},
   "source": [
    "## 4.2 XGBoost"
   ]
  },
  {
   "cell_type": "code",
   "execution_count": 30,
   "metadata": {},
   "outputs": [
    {
     "name": "stdout",
     "output_type": "stream",
     "text": [
      "Parameters currently in use:\n",
      "\n"
     ]
    },
    {
     "data": {
      "text/plain": [
       "{'objective': 'reg:squarederror',\n",
       " 'base_score': 0.5,\n",
       " 'booster': 'gbtree',\n",
       " 'colsample_bylevel': 1,\n",
       " 'colsample_bynode': 1,\n",
       " 'colsample_bytree': 1,\n",
       " 'gamma': 0,\n",
       " 'gpu_id': -1,\n",
       " 'importance_type': 'gain',\n",
       " 'interaction_constraints': '',\n",
       " 'learning_rate': 0.300000012,\n",
       " 'max_delta_step': 0,\n",
       " 'max_depth': 6,\n",
       " 'min_child_weight': 1,\n",
       " 'missing': nan,\n",
       " 'monotone_constraints': '()',\n",
       " 'n_estimators': 100,\n",
       " 'n_jobs': 0,\n",
       " 'num_parallel_tree': 1,\n",
       " 'random_state': 0,\n",
       " 'reg_alpha': 0,\n",
       " 'reg_lambda': 1,\n",
       " 'scale_pos_weight': 1,\n",
       " 'subsample': 1,\n",
       " 'tree_method': 'exact',\n",
       " 'validate_parameters': 1,\n",
       " 'verbosity': None}"
      ]
     },
     "execution_count": 30,
     "metadata": {},
     "output_type": "execute_result"
    }
   ],
   "source": [
    "print('Parameters currently in use:\\n')\n",
    "xgb.get_params()"
   ]
  },
  {
   "cell_type": "code",
   "execution_count": 31,
   "metadata": {},
   "outputs": [],
   "source": [
    "parameters = {\n",
    "'max_depth': np.arange(10,30,5),\n",
    "'min_child_weight': range(10,30),\n",
    "'n_estimators': range(40, 100, 5),\n",
    "'reg_alpha': [0.1,0.3,0.4,0.5],\n",
    "'reg_lambda':[1.3,1.4,1.5,1.6,1.7],\n",
    "'learning_rate': [0.3,0.2,0.25,0.1]}\n",
    "\n",
    "\n",
    "xgb_rs = RandomizedSearchCV(estimator=xgb, param_distributions=parameters, scoring='neg_root_mean_squared_error',\n",
    "                            cv=10, verbose=2, random_state=42, n_jobs=-1)"
   ]
  },
  {
   "cell_type": "code",
   "execution_count": 32,
   "metadata": {},
   "outputs": [
    {
     "name": "stdout",
     "output_type": "stream",
     "text": [
      "Fitting 10 folds for each of 10 candidates, totalling 100 fits\n"
     ]
    },
    {
     "name": "stderr",
     "output_type": "stream",
     "text": [
      "[Parallel(n_jobs=-1)]: Using backend LokyBackend with 8 concurrent workers.\n",
      "[Parallel(n_jobs=-1)]: Done  25 tasks      | elapsed:  6.5min\n",
      "[Parallel(n_jobs=-1)]: Done 100 out of 100 | elapsed: 20.3min finished\n"
     ]
    },
    {
     "name": "stdout",
     "output_type": "stream",
     "text": [
      "Train Root Mean Squared Error:  0.8580082943697498\n",
      "Test Root Mean Squared Error:  0.9741318111808973\n"
     ]
    }
   ],
   "source": [
    "xgb_rs.fit(X_train, y_train)\n",
    "\n",
    "y_trainpred = xgb_rs.predict(X_train)\n",
    "y_pred = xgb_rs.predict(X_test)\n",
    "\n",
    "print (\"Train Root Mean Squared Error: \", np.sqrt(mean_squared_error(y_train, y_trainpred)))\n",
    "print (\"Test Root Mean Squared Error: \", np.sqrt(mean_squared_error(y_test, y_pred)))"
   ]
  },
  {
   "cell_type": "code",
   "execution_count": 35,
   "metadata": {},
   "outputs": [
    {
     "name": "stdout",
     "output_type": "stream",
     "text": [
      "Best Hyper Parameters:\n",
      " {'reg_lambda': 1.6, 'reg_alpha': 0.1, 'n_estimators': 45, 'min_child_weight': 21, 'max_depth': 10, 'learning_rate': 0.1}\n"
     ]
    }
   ],
   "source": [
    "print(\"Best Hyper Parameters:\\n\",xgb_rs.best_params_)"
   ]
  },
  {
   "cell_type": "markdown",
   "metadata": {},
   "source": [
    "## 4.3 Final results\n",
    "\n",
    "From the fine tuning performed above we have the following results:\n",
    "\n",
    "| Model             | Train  | Test   | Difference | Behaviour           |\n",
    "|-------------------|--------|--------|------------|---------------------|\n",
    "| <code style=\"background:yellow\">**MLP Regressor** | 0.9379 | 0.9491 | 0.0112     | Slightly Overfitted |\n",
    "| **XGBoost**       | 0.858  | 0.9741 | 0.1161     | Overfitted          |\n",
    "    \n",
    "Therefore, we will consider the MLP regressor as our final model, because it has the best results among all the models runned thoughout the notebook. "
   ]
  },
  {
   "cell_type": "markdown",
   "metadata": {},
   "source": [
    "# 5. Final model"
   ]
  },
  {
   "cell_type": "code",
   "execution_count": 34,
   "metadata": {},
   "outputs": [
    {
     "name": "stdout",
     "output_type": "stream",
     "text": [
      "Train Root Mean Squared Error:  0.9379164195501649\n",
      "Test Root Mean Squared Error:  0.9490516506590705\n"
     ]
    }
   ],
   "source": [
    "final_model = MLPRegressor(random_state=0)\n",
    "final_model.set_params(**nn_rs.best_params_)\n",
    "\n",
    "final_model.fit(X_train, y_train)\n",
    "\n",
    "y_trainpred = final_model.predict(X_train)\n",
    "y_pred = final_model.predict(X_test)\n",
    "\n",
    "print (\"Train Root Mean Squared Error: \", np.sqrt(mean_squared_error(y_train, y_trainpred)))\n",
    "print (\"Test Root Mean Squared Error: \", np.sqrt(mean_squared_error(y_test, y_pred)))"
   ]
  },
  {
   "cell_type": "markdown",
   "metadata": {},
   "source": [
    "As explained throught the notebook, we have not been able to feed the model with all the information we wanted to, due to time constraint. Therefore, we expect that if we had been able to implement the NLP techniques needed, the scoring of the model would be much better. However, please note that the overfitting of the model is nearly 0, which is what we were seeking for: the generability of the model is high."
   ]
  }
 ],
 "metadata": {
  "kernelspec": {
   "display_name": "Python 3",
   "language": "python",
   "name": "python3"
  },
  "language_info": {
   "codemirror_mode": {
    "name": "ipython",
    "version": 3
   },
   "file_extension": ".py",
   "mimetype": "text/x-python",
   "name": "python",
   "nbconvert_exporter": "python",
   "pygments_lexer": "ipython3",
   "version": "3.7.0"
  }
 },
 "nbformat": 4,
 "nbformat_minor": 4
}
